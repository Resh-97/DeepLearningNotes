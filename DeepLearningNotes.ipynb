{
  "nbformat": 4,
  "nbformat_minor": 0,
  "metadata": {
    "colab": {
      "provenance": [],
      "authorship_tag": "ABX9TyNNHv3bMZ9tF//vyp3jDjwz",
      "include_colab_link": true
    },
    "kernelspec": {
      "name": "python3",
      "display_name": "Python 3"
    },
    "language_info": {
      "name": "python"
    }
  },
  "cells": [
    {
      "cell_type": "markdown",
      "metadata": {
        "id": "view-in-github",
        "colab_type": "text"
      },
      "source": [
        "<a href=\"https://colab.research.google.com/github/Resh-97/DeepLearningNotes/blob/main/DeepLearningNotes.ipynb\" target=\"_parent\"><img src=\"https://colab.research.google.com/assets/colab-badge.svg\" alt=\"Open In Colab\"/></a>"
      ]
    },
    {
      "cell_type": "markdown",
      "source": [
        "### Matrix multiplication ([torch](https://pytorch.org/docs/stable/tensors.html))"
      ],
      "metadata": {
        "id": "2ysbANkM5BDi"
      }
    },
    {
      "cell_type": "code",
      "source": [
        "import torch\n",
        "from torch import tensor"
      ],
      "metadata": {
        "id": "5tPKnsPC5YgN"
      },
      "execution_count": 2,
      "outputs": []
    },
    {
      "cell_type": "code",
      "execution_count": 3,
      "metadata": {
        "id": "H7nPRoFG4N53"
      },
      "outputs": [],
      "source": [
        "torch.manual_seed(1)\n",
        "m1 = torch.randn(784,10)\n",
        "m2 = torch.zeros(10)\n",
        "m3 = torch.zeros(10,1)"
      ]
    },
    {
      "cell_type": "code",
      "source": [
        "%timeit -n 50 _=m1*m2"
      ],
      "metadata": {
        "colab": {
          "base_uri": "https://localhost:8080/"
        },
        "id": "olbh34fX5ip5",
        "outputId": "637bf1fe-1b22-447e-bb16-17bb130d1ad9"
      },
      "execution_count": 4,
      "outputs": [
        {
          "output_type": "stream",
          "name": "stdout",
          "text": [
            "The slowest run took 19.55 times longer than the fastest. This could mean that an intermediate result is being cached.\n",
            "118 µs ± 139 µs per loop (mean ± std. dev. of 7 runs, 50 loops each)\n"
          ]
        }
      ]
    },
    {
      "cell_type": "code",
      "source": [
        "m1.shape,m2.shape, m3.shape"
      ],
      "metadata": {
        "colab": {
          "base_uri": "https://localhost:8080/"
        },
        "id": "oL7l1Nlo7whT",
        "outputId": "27d19363-5716-49ba-9d37-478c87e17e8f"
      },
      "execution_count": 5,
      "outputs": [
        {
          "output_type": "execute_result",
          "data": {
            "text/plain": [
              "(torch.Size([784, 10]), torch.Size([10]), torch.Size([10, 1]))"
            ]
          },
          "metadata": {},
          "execution_count": 5
        }
      ]
    },
    {
      "cell_type": "code",
      "source": [
        "#Element-wise Operation\n",
        "def matmul(a,b):\n",
        "    (ar,ac),(br,bc) = a.shape,b.shape\n",
        "    c = torch.zeros(ar, bc)\n",
        "\n",
        "    for i in range(ar):\n",
        "        for j in range(bc): c[i,j] = (a[i,:] * b[:,j]).sum()\n",
        "    return c"
      ],
      "metadata": {
        "id": "0im6cJmr6pIJ"
      },
      "execution_count": 6,
      "outputs": []
    },
    {
      "cell_type": "code",
      "source": [
        "%timeit -n 50 matmul(m1, m3)"
      ],
      "metadata": {
        "colab": {
          "base_uri": "https://localhost:8080/"
        },
        "id": "H8M9T9d47OpQ",
        "outputId": "3f8f2e23-a303-4a68-abda-5660bcb2ed4e"
      },
      "execution_count": 7,
      "outputs": [
        {
          "output_type": "stream",
          "name": "stdout",
          "text": [
            "22.2 ms ± 9.58 ms per loop (mean ± std. dev. of 7 runs, 50 loops each)\n"
          ]
        }
      ]
    },
    {
      "cell_type": "markdown",
      "source": [
        "### Broadcasting\n",
        "From the [Numpy Documentation](https://docs.scipy.org/doc/numpy-1.10.0/user/basics.broadcasting.html):\n",
        "\n",
        "    The term broadcasting describes how numpy treats arrays with\n",
        "    different shapes during arithmetic operations. Subject to certain\n",
        "    constraints, the smaller array is “broadcast” across the larger\n",
        "    array so that they have compatible shapes. Broadcasting provides a\n",
        "    means of vectorizing array operations so that looping occurs in C\n",
        "    instead of Python. It does this without making needless copies of\n",
        "    data and usually leads to efficient algorithm implementations.\n",
        "    \n",
        "In addition to the efficiency of broadcasting, it allows developers to write less code, which typically leads to fewer errors"
      ],
      "metadata": {
        "id": "NhWHOJ2g-rEU"
      }
    },
    {
      "cell_type": "code",
      "source": [
        "m1 *m2"
      ],
      "metadata": {
        "colab": {
          "base_uri": "https://localhost:8080/"
        },
        "id": "peadzVR68b8T",
        "outputId": "06742ec8-e8f0-4219-dda4-f2c20e51d5e1"
      },
      "execution_count": 8,
      "outputs": [
        {
          "output_type": "execute_result",
          "data": {
            "text/plain": [
              "tensor([[-0., -0., -0.,  ..., -0., -0., 0.],\n",
              "        [-0., -0., -0.,  ..., -0., 0., 0.],\n",
              "        [0., 0., -0.,  ..., -0., 0., -0.],\n",
              "        ...,\n",
              "        [0., 0., -0.,  ..., 0., 0., -0.],\n",
              "        [0., 0., 0.,  ..., -0., 0., -0.],\n",
              "        [-0., 0., -0.,  ..., -0., -0., 0.]])"
            ]
          },
          "metadata": {},
          "execution_count": 8
        }
      ]
    },
    {
      "cell_type": "code",
      "source": [
        "m2*m1"
      ],
      "metadata": {
        "colab": {
          "base_uri": "https://localhost:8080/"
        },
        "id": "BDlMzMT4vLS0",
        "outputId": "76abe1f8-25e3-4fb9-feb3-509bb47e189e"
      },
      "execution_count": 9,
      "outputs": [
        {
          "output_type": "execute_result",
          "data": {
            "text/plain": [
              "tensor([[-0., -0., -0.,  ..., -0., -0., 0.],\n",
              "        [-0., -0., -0.,  ..., -0., 0., 0.],\n",
              "        [0., 0., -0.,  ..., -0., 0., -0.],\n",
              "        ...,\n",
              "        [0., 0., -0.,  ..., 0., 0., -0.],\n",
              "        [0., 0., 0.,  ..., -0., 0., -0.],\n",
              "        [-0., 0., -0.,  ..., -0., -0., 0.]])"
            ]
          },
          "metadata": {},
          "execution_count": 9
        }
      ]
    },
    {
      "cell_type": "code",
      "source": [],
      "metadata": {
        "id": "dG7MbiA5vNEG"
      },
      "execution_count": null,
      "outputs": []
    }
  ]
}